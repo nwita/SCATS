{
 "cells": [
  {
   "attachments": {},
   "cell_type": "markdown",
   "metadata": {},
   "source": [
    "Scats Notebook"
   ]
  },
  {
   "cell_type": "code",
   "execution_count": null,
   "metadata": {},
   "outputs": [],
   "source": [
    "import pandas as pd\n",
    "# Read the 2 CSV files as dataframe and list the name of the columns\n",
    "Signaldf = pd.read_csv('C:/Users/nsdsc0/OneDrive - WSP O365/DATA_ANALYTICS/Python/SCATS/WEST_20230308.SM.csv')\n",
    "#Signal_column = Signaldf.columns.tolist()\n",
    "# Print the column names\n",
    "#for column in Signal_column:\n",
    "# print(column)\n",
    "Signaldf\n",
    "  \n"
   ]
  },
  {
   "cell_type": "code",
   "execution_count": null,
   "metadata": {},
   "outputs": [],
   "source": [
    "import pandas as pd\n",
    "from datetime import datetime, timedelta\n",
    "\n",
    "# Assuming 'Signaldf' is your DataFrame with the 'Cycle_ starttime' column\n",
    "# Create a sample DataFrame for demonstration\n",
    "data = {\n",
    "    'Cycle_starttime': ['00:01:00', '00:02:00', '00:03:00', '00:04:00', '00:06:00', '00:07:00', '00:09:00']\n",
    "}\n",
    "Signaldf = pd.DataFrame(data)\n",
    "\n",
    "# Convert 'Cycle_starttime' column to datetime format\n",
    "Signaldf['Cycle_starttime'] = pd.to_datetime(Signaldf['Cycle_starttime'])\n",
    "\n",
    "# Round the 'Cycle_starttime' column to 5-minute intervals\n",
    "Signaldf['Rounded_starttime'] = Signaldf['Cycle_starttime'].apply(lambda x: (x - timedelta(minutes=x.minute % 5)) + timedelta(minutes=5))\n",
    "\n",
    "# Convert 'Rounded_starttime' column back to string format\n",
    "Signaldf['Rounded_starttime'] = Signaldf['Rounded_starttime'].dt.strftime('%H:%M:%S')\n",
    "\n",
    "print(Signaldf)\n"
   ]
  },
  {
   "cell_type": "code",
   "execution_count": null,
   "metadata": {},
   "outputs": [],
   "source": [
    "import pandas as pd\n",
    "from datetime import datetime, timedelta\n",
    "\n",
    "# Assuming 'Signaldf' is your DataFrame with the 'Cycle_starttime' and 'Date' columns\n",
    "# Create a sample DataFrame for demonstration\n",
    "data = {\n",
    "    'Cycle_starttime': ['00:01:00', '00:02:00', '00:03:00', '00:04:00', '00:06:00', '00:07:00', '00:09:00'],\n",
    "    'Date': ['2023-05-31', '2023-05-31', '2023-05-31', '2023-05-31', '2023-05-31', '2023-05-31', '2023-05-31']\n",
    "}\n",
    "Signaldf = pd.DataFrame(data)\n",
    "\n",
    "# Convert 'Cycle_starttime' and 'Date' columns to datetime format\n",
    "Signaldf['Cycle_starttime'] = pd.to_datetime(Signaldf['Cycle_starttime'])\n",
    "Signaldf['Date'] = pd.to_datetime(Signaldf['Date'])\n",
    "\n",
    "# Round the 'Cycle_starttime' column to 5-minute intervals\n",
    "Signaldf['Rounded_starttime'] = Signaldf.apply(lambda row: (row['Cycle_starttime'] - timedelta(minutes=row['Cycle_starttime'].minute % 5)) + timedelta(minutes=5), axis=1)\n",
    "\n",
    "# Combine 'Date' and 'Rounded_starttime' columns and convert to string format\n",
    "Signaldf['Rounded_starttime'] = Signaldf['Rounded_starttime'].dt.strftime('%Y-%m-%d %H:%M:%S')\n",
    "\n",
    "print(Signaldf)\n"
   ]
  },
  {
   "cell_type": "code",
   "execution_count": null,
   "metadata": {},
   "outputs": [],
   "source": [
    "TraffCount3df = pd.read_csv('C:/Users/nsdsc0/OneDrive - WSP O365/DATA_ANALYTICS/Python/SCATS/WEST_20230308.VS.csv')\n",
    "Traffic_column = TraffCount3df.columns.tolist()\n",
    "# Print the column names\n",
    "for column in Traffic_column:\n",
    " print(column)\n",
    " print(TraffCount3df)"
   ]
  },
  {
   "cell_type": "code",
   "execution_count": null,
   "metadata": {},
   "outputs": [],
   "source": [
    "filtered_df = TraffCount3df[TraffCount3df['Site_ID'] == '2368']\n"
   ]
  },
  {
   "cell_type": "code",
   "execution_count": null,
   "metadata": {},
   "outputs": [],
   "source": [
    "# Convert 'Date' column to datetime\n",
    "TraffCount2df['Date'] = pd.to_datetime(TraffCount2df['Date'])\n",
    "\n",
    "# Convert 'Start_time' column to datetime\n",
    "TraffCount2df['Start_time'] = pd.to_datetime(TraffCount2df['Start_time'], format='%H:%M:%S')\n",
    "\n",
    "# Modify the format of 'Start_time' column\n",
    "TraffCount2df['Start_time'] = TraffCount2df['Start_time'].dt.strftime('%H:%M:%S')\n",
    "\n",
    "# Create a new column combining 'Date' and 'Start_time'\n",
    "TraffCount2df['Combined_datetime'] = TraffCount2df['Date'].astype(str) + ' ' + TraffCount2df['Start_time']\n",
    "\n",
    "# Print the updated TraffCount2df\n",
    "print(TraffCount2df)\n"
   ]
  },
  {
   "cell_type": "code",
   "execution_count": null,
   "metadata": {},
   "outputs": [],
   "source": [
    "# Extract the corresponding Detector_Ids\n",
    "filt_detec_ids = TraffCount2df.loc[TraffCount2df['Site_ID'] == 2368, 'Detector_ID']\n",
    "\n",
    "# Create new columns with extracted Detector_Ids\n",
    "for Detector_Id in filt_detec_ids:\n",
    "    TraffCount2df[Detector_Id] = None  # Initialize the new column with None\n",
    "\n",
    "# Print the updated TraffCount2df\n",
    "# print(TraffCount2df)\n",
    "\n",
    "# Define a custom function to fill the Detector Id columns\n",
    "def fill_traffic_volume(row):\n",
    "    site_id = row['Site_ID']\n",
    "    start_time = row['Start_time']\n",
    "    traffic_volume = row['Traffic_Volume']\n",
    "\n",
    "    # Iterate over the filtered Detector Ids for Site ID 2368\n",
    "    for detector_id in filt_detec_ids:\n",
    "        if (row['Detector_ID'] == detector_id) and (row['Site_ID'] == site_id):\n",
    "            return traffic_volume\n",
    "\n",
    "    return None  # Return None if no matching Detector Id is found\n",
    "\n",
    "# Apply the custom function to fill the Detector Id columns\n",
    "for detector_id in filt_detec_ids:\n",
    "    TraffCount2df[detector_id] = TraffCount2df.apply(fill_traffic_volume, axis=1)\n",
    "\n",
    "# Print the updated TraffCount2df\n",
    "print(TraffCount2df)\n",
    "\n"
   ]
  }
 ],
 "metadata": {
  "kernelspec": {
   "display_name": "Python 3",
   "language": "python",
   "name": "python3"
  },
  "language_info": {
   "codemirror_mode": {
    "name": "ipython",
    "version": 3
   },
   "file_extension": ".py",
   "mimetype": "text/x-python",
   "name": "python",
   "nbconvert_exporter": "python",
   "pygments_lexer": "ipython3",
   "version": "3.10.5"
  },
  "orig_nbformat": 4
 },
 "nbformat": 4,
 "nbformat_minor": 2
}
